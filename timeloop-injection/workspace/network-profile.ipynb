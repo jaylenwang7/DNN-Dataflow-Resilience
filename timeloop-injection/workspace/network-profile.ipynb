{
 "cells": [
  {
   "cell_type": "markdown",
   "metadata": {},
   "source": [
    "# Network Profile Notebook\n",
    "Use this notebook to run Timeloop and map networks onto architectures."
   ]
  },
  {
   "cell_type": "markdown",
   "metadata": {},
   "source": [
    "### Install Dependencies\n",
    "Run this once (by uncommenting) to get requirements that aren't installed into the Docker image"
   ]
  },
  {
   "cell_type": "code",
   "execution_count": 1,
   "metadata": {},
   "outputs": [],
   "source": [
    "# %%bash\n",
    "# pip install transformers\n",
    "# pip install timm"
   ]
  },
  {
   "cell_type": "markdown",
   "metadata": {},
   "source": [
    "### Import Packages"
   ]
  },
  {
   "cell_type": "code",
   "execution_count": 2,
   "metadata": {},
   "outputs": [],
   "source": [
    "import torch\n",
    "import torchvision.models as models\n",
    "from profiler import Profiler\n",
    "import timm"
   ]
  },
  {
   "cell_type": "markdown",
   "metadata": {},
   "source": [
    "### Set the Network"
   ]
  },
  {
   "cell_type": "code",
   "execution_count": 3,
   "metadata": {},
   "outputs": [],
   "source": [
    "net = models.alexnet()\n",
    "# net = torch.hub.load('facebookresearch/deit:main', 'deit_tiny_patch16_224', pretrained=True)\n",
    "# net = timm.create_model(\"efficientnet_b0\", pretrained=True)\n",
    "# net = models.resnet18()"
   ]
  },
  {
   "cell_type": "code",
   "execution_count": 4,
   "metadata": {},
   "outputs": [],
   "source": [
    "net.eval();"
   ]
  },
  {
   "cell_type": "code",
   "execution_count": 5,
   "metadata": {},
   "outputs": [],
   "source": [
    "net_name = \"Alexnet\"\n",
    "# net_name = \"Deit_Tiny\"\n",
    "# net_name = \"EfficientNet_B0\"\n",
    "# net_name = \"ResNet18\""
   ]
  },
  {
   "cell_type": "markdown",
   "metadata": {},
   "source": [
    "### Set the Architecture\n",
    "Make sure the name below matches the name of the corresponding directory within the `archs/` directory."
   ]
  },
  {
   "cell_type": "code",
   "execution_count": 6,
   "metadata": {},
   "outputs": [],
   "source": [
    "arch_name = \"eyeriss\"\n",
    "# arch_name = \"simba\""
   ]
  },
  {
   "cell_type": "markdown",
   "metadata": {},
   "source": [
    "### Make a New Profiler\n",
    "NOTE: YOU SHOULD NOT NEED TO CHANGE ANY OF THE CODE BELOW HERE"
   ]
  },
  {
   "cell_type": "code",
   "execution_count": 7,
   "metadata": {},
   "outputs": [],
   "source": [
    "profiler = Profiler(\n",
    "    net_name=net_name,\n",
    "    arch_name=arch_name,\n",
    "    model=net,\n",
    "    input_size=(3, 224, 224),\n",
    "    batch_size=1,\n",
    "    convert_fc=True,\n",
    "    exception_module_names=[],\n",
    ")"
   ]
  },
  {
   "cell_type": "markdown",
   "metadata": {},
   "source": [
    "### Run Timeloop!\n",
    "After running the following command, output files (like statistics and mapping results) will be outputted to the `archs/*arch_name*/profiled_networks/*net_name*/*profiled_date*/` directory, where each layer will have its own directory. If there are multiple of the same layer (same shape, stride, etc.), only the first layer of them will be profiled.\n",
    "\n",
    "Once this is done, you can go back to FlowFI (the outter repo) and start "
   ]
  },
  {
   "cell_type": "code",
   "execution_count": null,
   "metadata": {},
   "outputs": [],
   "source": [
    "layer_wise, overall = profiler.profile()\n",
    "\n",
    "for layer_id, info in layer_wise.items():\n",
    "    print(f\"Name: {info['name']} \\t Energy: {info['energy']:.2f} \\t Cycle: {info['cycle']} \\t Number of same architecture layers: {info['num']}\")\n",
    "    \n",
    "print(f\"\\nTotal Energy: {overall['total_energy']/1e9:.8f} mj \\nTotal Cycles: {overall['total_cycle']/1e6:.8f} Million\")"
   ]
  }
 ],
 "metadata": {
  "kernelspec": {
   "display_name": "Python 3",
   "language": "python",
   "name": "python3"
  },
  "language_info": {
   "codemirror_mode": {
    "name": "ipython",
    "version": 3
   },
   "file_extension": ".py",
   "mimetype": "text/x-python",
   "name": "python",
   "nbconvert_exporter": "python",
   "pygments_lexer": "ipython3",
   "version": "3.8.8"
  },
  "vscode": {
   "interpreter": {
    "hash": "b936384e55aec7c172f11878d2cc936a735ffd8ef2bcc2e704dbe30af09ca620"
   }
  }
 },
 "nbformat": 4,
 "nbformat_minor": 2
}
