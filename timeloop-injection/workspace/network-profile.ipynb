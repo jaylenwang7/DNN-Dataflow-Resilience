{
 "cells": [
  {
   "cell_type": "markdown",
   "metadata": {},
   "source": [
    "### Install Dependencies\n",
    "Run this once to get requirements that aren't installed into the Docker image"
   ]
  },
  {
   "cell_type": "code",
   "execution_count": 1,
   "metadata": {},
   "outputs": [],
   "source": [
    "# %%bash\n",
    "# pip install transformers\n",
    "# pip install timm"
   ]
  },
  {
   "cell_type": "markdown",
   "metadata": {},
   "source": [
    "### Import Packages"
   ]
  },
  {
   "cell_type": "code",
   "execution_count": 2,
   "metadata": {},
   "outputs": [],
   "source": [
    "import torch\n",
    "import torchvision.models as models\n",
    "from profiler import Profiler\n",
    "import timm"
   ]
  },
  {
   "cell_type": "markdown",
   "metadata": {},
   "source": [
    "### Set the Network"
   ]
  },
  {
   "cell_type": "code",
   "execution_count": 3,
   "metadata": {},
   "outputs": [],
   "source": [
    "# net = models.alexnet()\n",
    "# net = torch.hub.load('facebookresearch/deit:main', 'deit_tiny_patch16_224', pretrained=True)\n",
    "net = timm.create_model(\"efficientnet_b0\", pretrained=True)\n",
    "# net = models.resnet18()"
   ]
  },
  {
   "cell_type": "code",
   "execution_count": 4,
   "metadata": {},
   "outputs": [],
   "source": [
    "net.eval();"
   ]
  },
  {
   "cell_type": "code",
   "execution_count": 5,
   "metadata": {},
   "outputs": [],
   "source": [
    "# net_name = \"Alexnet\"\n",
    "# net_name = \"Deit_Tiny\"\n",
    "net_name = \"EfficientNet_B0\"\n",
    "# net_name = \"ResNet18\""
   ]
  },
  {
   "cell_type": "markdown",
   "metadata": {},
   "source": [
    "### Set the Architecture\n",
    "Make sure the name below matches the name of the corresponding directory within the `archs/` directory."
   ]
  },
  {
   "cell_type": "code",
   "execution_count": 6,
   "metadata": {},
   "outputs": [],
   "source": [
    "arch_name = \"eyeriss\"\n",
    "# arch_name = \"simba\""
   ]
  },
  {
   "cell_type": "markdown",
   "metadata": {},
   "source": [
    "### Make a New Profiler\n",
    "NOTE: YOU SHOULD NOT NEED TO CHANGE ANY OF THE CODE BELOW HERE"
   ]
  },
  {
   "cell_type": "code",
   "execution_count": 7,
   "metadata": {},
   "outputs": [],
   "source": [
    "profiler = Profiler(\n",
    "    net_name=net_name,\n",
    "    arch_name=arch_name,\n",
    "    model=net,\n",
    "    input_size=(3, 224, 224),\n",
    "    batch_size=1,\n",
    "    convert_fc=True,\n",
    "    exception_module_names=[],\n",
    ")"
   ]
  },
  {
   "cell_type": "markdown",
   "metadata": {},
   "source": [
    "### Run Timeloop!"
   ]
  },
  {
   "cell_type": "code",
   "execution_count": null,
   "metadata": {},
   "outputs": [
    {
     "name": "stdout",
     "output_type": "stream",
     "text": [
      "converting nn.Conv2d and nn.Linear in Aug-08-2022 model ...\n",
      "workload file --> /home/workspace/networks/EfficientNet_B0/Aug-08-2022/Aug-08-2022_layer1.yaml\n",
      "workload file --> /home/workspace/networks/EfficientNet_B0/Aug-08-2022/Aug-08-2022_layer2.yaml\n",
      "workload file --> /home/workspace/networks/EfficientNet_B0/Aug-08-2022/Aug-08-2022_layer3.yaml\n",
      "workload file --> /home/workspace/networks/EfficientNet_B0/Aug-08-2022/Aug-08-2022_layer4.yaml\n",
      "workload file --> /home/workspace/networks/EfficientNet_B0/Aug-08-2022/Aug-08-2022_layer5.yaml\n",
      "workload file --> /home/workspace/networks/EfficientNet_B0/Aug-08-2022/Aug-08-2022_layer6.yaml\n",
      "workload file --> /home/workspace/networks/EfficientNet_B0/Aug-08-2022/Aug-08-2022_layer7.yaml\n",
      "workload file --> /home/workspace/networks/EfficientNet_B0/Aug-08-2022/Aug-08-2022_layer8.yaml\n",
      "workload file --> /home/workspace/networks/EfficientNet_B0/Aug-08-2022/Aug-08-2022_layer9.yaml\n",
      "workload file --> /home/workspace/networks/EfficientNet_B0/Aug-08-2022/Aug-08-2022_layer10.yaml\n",
      "workload file --> /home/workspace/networks/EfficientNet_B0/Aug-08-2022/Aug-08-2022_layer11.yaml\n",
      "workload file --> /home/workspace/networks/EfficientNet_B0/Aug-08-2022/Aug-08-2022_layer12.yaml\n",
      "workload file --> /home/workspace/networks/EfficientNet_B0/Aug-08-2022/Aug-08-2022_layer13.yaml\n",
      "workload file --> /home/workspace/networks/EfficientNet_B0/Aug-08-2022/Aug-08-2022_layer14.yaml\n",
      "workload file --> /home/workspace/networks/EfficientNet_B0/Aug-08-2022/Aug-08-2022_layer15.yaml\n",
      "workload file --> /home/workspace/networks/EfficientNet_B0/Aug-08-2022/Aug-08-2022_layer16.yaml\n",
      "workload file --> /home/workspace/networks/EfficientNet_B0/Aug-08-2022/Aug-08-2022_layer17.yaml\n",
      "workload file --> /home/workspace/networks/EfficientNet_B0/Aug-08-2022/Aug-08-2022_layer18.yaml\n",
      "workload file --> /home/workspace/networks/EfficientNet_B0/Aug-08-2022/Aug-08-2022_layer19.yaml\n",
      "workload file --> /home/workspace/networks/EfficientNet_B0/Aug-08-2022/Aug-08-2022_layer20.yaml\n",
      "workload file --> /home/workspace/networks/EfficientNet_B0/Aug-08-2022/Aug-08-2022_layer21.yaml\n",
      "workload file --> /home/workspace/networks/EfficientNet_B0/Aug-08-2022/Aug-08-2022_layer22.yaml\n",
      "workload file --> /home/workspace/networks/EfficientNet_B0/Aug-08-2022/Aug-08-2022_layer23.yaml\n",
      "workload file --> /home/workspace/networks/EfficientNet_B0/Aug-08-2022/Aug-08-2022_layer24.yaml\n",
      "workload file --> /home/workspace/networks/EfficientNet_B0/Aug-08-2022/Aug-08-2022_layer25.yaml\n",
      "workload file --> /home/workspace/networks/EfficientNet_B0/Aug-08-2022/Aug-08-2022_layer26.yaml\n",
      "workload file --> /home/workspace/networks/EfficientNet_B0/Aug-08-2022/Aug-08-2022_layer27.yaml\n",
      "workload file --> /home/workspace/networks/EfficientNet_B0/Aug-08-2022/Aug-08-2022_layer28.yaml\n",
      "workload file --> /home/workspace/networks/EfficientNet_B0/Aug-08-2022/Aug-08-2022_layer29.yaml\n",
      "workload file --> /home/workspace/networks/EfficientNet_B0/Aug-08-2022/Aug-08-2022_layer30.yaml\n",
      "workload file --> /home/workspace/networks/EfficientNet_B0/Aug-08-2022/Aug-08-2022_layer31.yaml\n",
      "workload file --> /home/workspace/networks/EfficientNet_B0/Aug-08-2022/Aug-08-2022_layer32.yaml\n",
      "workload file --> /home/workspace/networks/EfficientNet_B0/Aug-08-2022/Aug-08-2022_layer33.yaml\n",
      "workload file --> /home/workspace/networks/EfficientNet_B0/Aug-08-2022/Aug-08-2022_layer34.yaml\n",
      "workload file --> /home/workspace/networks/EfficientNet_B0/Aug-08-2022/Aug-08-2022_layer35.yaml\n",
      "workload file --> /home/workspace/networks/EfficientNet_B0/Aug-08-2022/Aug-08-2022_layer36.yaml\n",
      "workload file --> /home/workspace/networks/EfficientNet_B0/Aug-08-2022/Aug-08-2022_layer37.yaml\n",
      "workload file --> /home/workspace/networks/EfficientNet_B0/Aug-08-2022/Aug-08-2022_layer38.yaml\n",
      "workload file --> /home/workspace/networks/EfficientNet_B0/Aug-08-2022/Aug-08-2022_layer39.yaml\n",
      "workload file --> /home/workspace/networks/EfficientNet_B0/Aug-08-2022/Aug-08-2022_layer40.yaml\n",
      "workload file --> /home/workspace/networks/EfficientNet_B0/Aug-08-2022/Aug-08-2022_layer41.yaml\n",
      "workload file --> /home/workspace/networks/EfficientNet_B0/Aug-08-2022/Aug-08-2022_layer42.yaml\n",
      "workload file --> /home/workspace/networks/EfficientNet_B0/Aug-08-2022/Aug-08-2022_layer43.yaml\n",
      "workload file --> /home/workspace/networks/EfficientNet_B0/Aug-08-2022/Aug-08-2022_layer44.yaml\n",
      "workload file --> /home/workspace/networks/EfficientNet_B0/Aug-08-2022/Aug-08-2022_layer45.yaml\n",
      "workload file --> /home/workspace/networks/EfficientNet_B0/Aug-08-2022/Aug-08-2022_layer46.yaml\n",
      "workload file --> /home/workspace/networks/EfficientNet_B0/Aug-08-2022/Aug-08-2022_layer47.yaml\n",
      "workload file --> /home/workspace/networks/EfficientNet_B0/Aug-08-2022/Aug-08-2022_layer48.yaml\n",
      "workload file --> /home/workspace/networks/EfficientNet_B0/Aug-08-2022/Aug-08-2022_layer49.yaml\n",
      "workload file --> /home/workspace/networks/EfficientNet_B0/Aug-08-2022/Aug-08-2022_layer50.yaml\n",
      "workload file --> /home/workspace/networks/EfficientNet_B0/Aug-08-2022/Aug-08-2022_layer51.yaml\n",
      "workload file --> /home/workspace/networks/EfficientNet_B0/Aug-08-2022/Aug-08-2022_layer52.yaml\n",
      "workload file --> /home/workspace/networks/EfficientNet_B0/Aug-08-2022/Aug-08-2022_layer53.yaml\n",
      "workload file --> /home/workspace/networks/EfficientNet_B0/Aug-08-2022/Aug-08-2022_layer54.yaml\n",
      "workload file --> /home/workspace/networks/EfficientNet_B0/Aug-08-2022/Aug-08-2022_layer55.yaml\n",
      "workload file --> /home/workspace/networks/EfficientNet_B0/Aug-08-2022/Aug-08-2022_layer56.yaml\n",
      "workload file --> /home/workspace/networks/EfficientNet_B0/Aug-08-2022/Aug-08-2022_layer57.yaml\n",
      "workload file --> /home/workspace/networks/EfficientNet_B0/Aug-08-2022/Aug-08-2022_layer58.yaml\n",
      "workload file --> /home/workspace/networks/EfficientNet_B0/Aug-08-2022/Aug-08-2022_layer59.yaml\n",
      "workload file --> /home/workspace/networks/EfficientNet_B0/Aug-08-2022/Aug-08-2022_layer60.yaml\n",
      "workload file --> /home/workspace/networks/EfficientNet_B0/Aug-08-2022/Aug-08-2022_layer61.yaml\n",
      "workload file --> /home/workspace/networks/EfficientNet_B0/Aug-08-2022/Aug-08-2022_layer62.yaml\n",
      "workload file --> /home/workspace/networks/EfficientNet_B0/Aug-08-2022/Aug-08-2022_layer63.yaml\n",
      "workload file --> /home/workspace/networks/EfficientNet_B0/Aug-08-2022/Aug-08-2022_layer64.yaml\n",
      "workload file --> /home/workspace/networks/EfficientNet_B0/Aug-08-2022/Aug-08-2022_layer65.yaml\n",
      "workload file --> /home/workspace/networks/EfficientNet_B0/Aug-08-2022/Aug-08-2022_layer66.yaml\n",
      "workload file --> /home/workspace/networks/EfficientNet_B0/Aug-08-2022/Aug-08-2022_layer67.yaml\n",
      "workload file --> /home/workspace/networks/EfficientNet_B0/Aug-08-2022/Aug-08-2022_layer68.yaml\n",
      "workload file --> /home/workspace/networks/EfficientNet_B0/Aug-08-2022/Aug-08-2022_layer69.yaml\n",
      "workload file --> /home/workspace/networks/EfficientNet_B0/Aug-08-2022/Aug-08-2022_layer70.yaml\n",
      "workload file --> /home/workspace/networks/EfficientNet_B0/Aug-08-2022/Aug-08-2022_layer71.yaml\n",
      "workload file --> /home/workspace/networks/EfficientNet_B0/Aug-08-2022/Aug-08-2022_layer72.yaml\n",
      "workload file --> /home/workspace/networks/EfficientNet_B0/Aug-08-2022/Aug-08-2022_layer73.yaml\n",
      "workload file --> /home/workspace/networks/EfficientNet_B0/Aug-08-2022/Aug-08-2022_layer74.yaml\n",
      "workload file --> /home/workspace/networks/EfficientNet_B0/Aug-08-2022/Aug-08-2022_layer75.yaml\n",
      "workload file --> /home/workspace/networks/EfficientNet_B0/Aug-08-2022/Aug-08-2022_layer76.yaml\n",
      "workload file --> /home/workspace/networks/EfficientNet_B0/Aug-08-2022/Aug-08-2022_layer77.yaml\n",
      "workload file --> /home/workspace/networks/EfficientNet_B0/Aug-08-2022/Aug-08-2022_layer78.yaml\n",
      "workload file --> /home/workspace/networks/EfficientNet_B0/Aug-08-2022/Aug-08-2022_layer79.yaml\n",
      "workload file --> /home/workspace/networks/EfficientNet_B0/Aug-08-2022/Aug-08-2022_layer80.yaml\n",
      "workload file --> /home/workspace/networks/EfficientNet_B0/Aug-08-2022/Aug-08-2022_layer81.yaml\n",
      "workload file --> /home/workspace/networks/EfficientNet_B0/Aug-08-2022/Aug-08-2022_layer82.yaml\n",
      "conversion complete!\n",
      "\n",
      "running timeloop to get energy and latency...\n"
     ]
    },
    {
     "name": "stderr",
     "output_type": "stream",
     "text": [
      "\r",
      "  0%|          | 0/47 [00:00<?, ?it/s]"
     ]
    },
    {
     "name": "stdout",
     "output_type": "stream",
     "text": [
      "/home/workspace/archs/eyeriss/EfficientNet_B0/Aug-08-2022/layer1\n",
      "timeloop-mapper /home/workspace/archs/eyeriss/arch/eyeriss.yaml /home/workspace/archs/eyeriss/arch/components/*.yaml /home/workspace/archs/eyeriss/mapper/mapper.yaml /home/workspace/archs/eyeriss/constraints/*.yaml /home/workspace/networks/EfficientNet_B0/Aug-08-2022/Aug-08-2022_layer1.yaml \n"
     ]
    },
    {
     "name": "stderr",
     "output_type": "stream",
     "text": [
      "\r",
      "  2%|▏         | 1/47 [00:05<04:17,  5.59s/it]"
     ]
    },
    {
     "name": "stdout",
     "output_type": "stream",
     "text": [
      "/home/workspace/archs/eyeriss/EfficientNet_B0/Aug-08-2022/layer2\n",
      "timeloop-mapper /home/workspace/archs/eyeriss/arch/eyeriss.yaml /home/workspace/archs/eyeriss/arch/components/*.yaml /home/workspace/archs/eyeriss/mapper/mapper.yaml /home/workspace/archs/eyeriss/constraints_dw/*.yaml /home/workspace/networks/EfficientNet_B0/Aug-08-2022/Aug-08-2022_layer2.yaml \n"
     ]
    },
    {
     "name": "stderr",
     "output_type": "stream",
     "text": [
      "\r",
      "  4%|▍         | 2/47 [00:06<03:14,  4.31s/it]"
     ]
    },
    {
     "name": "stdout",
     "output_type": "stream",
     "text": [
      "/home/workspace/archs/eyeriss/EfficientNet_B0/Aug-08-2022/layer3\n",
      "timeloop-mapper /home/workspace/archs/eyeriss/arch/eyeriss.yaml /home/workspace/archs/eyeriss/arch/components/*.yaml /home/workspace/archs/eyeriss/mapper/mapper.yaml /home/workspace/archs/eyeriss/constraints/*.yaml /home/workspace/networks/EfficientNet_B0/Aug-08-2022/Aug-08-2022_layer3.yaml \n"
     ]
    }
   ],
   "source": [
    "layer_wise, overall = profiler.profile()\n",
    "\n",
    "for layer_id, info in layer_wise.items():\n",
    "    print(f\"Name: {info['name']} \\t Energy: {info['energy']:.2f} \\t Cycle: {info['cycle']} \\t Number of same architecture layers: {info['num']}\")\n",
    "    \n",
    "print(f\"\\nTotal Energy: {overall['total_energy']/1e9:.8f} mj \\nTotal Cycles: {overall['total_cycle']/1e6:.8f} Million\")"
   ]
  }
 ],
 "metadata": {
  "kernelspec": {
   "display_name": "Python 3",
   "language": "python",
   "name": "python3"
  },
  "language_info": {
   "codemirror_mode": {
    "name": "ipython",
    "version": 3
   },
   "file_extension": ".py",
   "mimetype": "text/x-python",
   "name": "python",
   "nbconvert_exporter": "python",
   "pygments_lexer": "ipython3",
   "version": "3.8.8"
  },
  "vscode": {
   "interpreter": {
    "hash": "b936384e55aec7c172f11878d2cc936a735ffd8ef2bcc2e704dbe30af09ca620"
   }
  }
 },
 "nbformat": 4,
 "nbformat_minor": 2
}
