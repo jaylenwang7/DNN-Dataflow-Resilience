{
 "cells": [
  {
   "cell_type": "code",
   "execution_count": 7,
   "metadata": {},
   "outputs": [],
   "source": [
    "# run this once to get requirements that aren't installed into the Docker image\n",
    "%%bash\n",
    "pip install transformers\n",
    "pip install timm"
   ]
  },
  {
   "cell_type": "code",
   "execution_count": 1,
   "metadata": {},
   "outputs": [],
   "source": [
    "import torch\n",
    "import torchvision.models as models\n",
    "from profiler import Profiler\n",
    "from datetime import date"
   ]
  },
  {
   "cell_type": "code",
   "execution_count": 3,
   "metadata": {},
   "outputs": [],
   "source": [
    "net = models.alexnet()\n",
    "# net = torch.hub.load('facebookresearch/deit:main', 'deit_tiny_patch16_224', pretrained=True)\n",
    "# net = models.efficientnet_b0()\n",
    "# net = models.resnet18()"
   ]
  },
  {
   "cell_type": "code",
   "execution_count": null,
   "metadata": {},
   "outputs": [],
   "source": [
    "net.eval();"
   ]
  },
  {
   "cell_type": "code",
   "execution_count": 9,
   "metadata": {},
   "outputs": [],
   "source": [
    "net_name = \"Alexnet\"\n",
    "# net_name = \"Deit_Tiny\"\n",
    "# net_name = \"EfficientNet_B0\"\n",
    "# net_name = \"ResNet18\"\n",
    "\n",
    "arch_name = \"eyeriss\"\n",
    "# arch_name = \"simba\""
   ]
  },
  {
   "cell_type": "code",
   "execution_count": 12,
   "metadata": {},
   "outputs": [
    {
     "name": "stdout",
     "output_type": "stream",
     "text": [
      "networks/Alexnet/profiled_lib.json\n"
     ]
    }
   ],
   "source": [
    "profiled_lib_dir = '/'.join([arch_name, 'profiled_lib.json'])\n",
    "top_dir = '/'.join(['networks', net_name])\n",
    "timeloop_dir = '/'.join(['archs', arch_name])\n",
    "print(profiled_lib_dir)"
   ]
  },
  {
   "cell_type": "code",
   "execution_count": 4,
   "metadata": {},
   "outputs": [],
   "source": [
    "today = date.today()\n",
    "sub_dir = today.strftime(\"%b-%d-%Y\")\n",
    "\n",
    "profiler = Profiler(\n",
    "    top_dir='ResNet18',\n",
    "    sub_dir=sub_dir,\n",
    "    timeloop_dir='',\n",
    "    model=net,\n",
    "    input_size=(3, 224, 224),\n",
    "    batch_size=1,\n",
    "    convert_fc=True,\n",
    "    exception_module_names=[],\n",
    "    profiled_lib_dir=f\"profiled_lib.json\"\n",
    ")"
   ]
  },
  {
   "cell_type": "code",
   "execution_count": 5,
   "metadata": {},
   "outputs": [
    {
     "name": "stdout",
     "output_type": "stream",
     "text": [
      "converting nn.Conv2d and nn.Linear in Aug-07-2022 model ...\n",
      "unknown module type <class 'torch.nn.modules.batchnorm.BatchNorm2d'>\n",
      "unknown module type <class 'torch.nn.modules.batchnorm.BatchNorm2d'>\n",
      "unknown module type <class 'torch.nn.modules.batchnorm.BatchNorm2d'>\n",
      "unknown module type <class 'torchvision.models.resnet.BasicBlock'>\n",
      "unknown module type <class 'torch.nn.modules.batchnorm.BatchNorm2d'>\n",
      "unknown module type <class 'torch.nn.modules.batchnorm.BatchNorm2d'>\n",
      "unknown module type <class 'torchvision.models.resnet.BasicBlock'>\n",
      "unknown module type <class 'torch.nn.modules.batchnorm.BatchNorm2d'>\n",
      "unknown module type <class 'torch.nn.modules.batchnorm.BatchNorm2d'>\n",
      "unknown module type <class 'torch.nn.modules.batchnorm.BatchNorm2d'>\n",
      "unknown module type <class 'torchvision.models.resnet.BasicBlock'>\n",
      "unknown module type <class 'torch.nn.modules.batchnorm.BatchNorm2d'>\n",
      "unknown module type <class 'torch.nn.modules.batchnorm.BatchNorm2d'>\n",
      "unknown module type <class 'torchvision.models.resnet.BasicBlock'>\n",
      "unknown module type <class 'torch.nn.modules.batchnorm.BatchNorm2d'>\n",
      "unknown module type <class 'torch.nn.modules.batchnorm.BatchNorm2d'>\n",
      "unknown module type <class 'torch.nn.modules.batchnorm.BatchNorm2d'>\n",
      "unknown module type <class 'torchvision.models.resnet.BasicBlock'>\n",
      "unknown module type <class 'torch.nn.modules.batchnorm.BatchNorm2d'>\n",
      "unknown module type <class 'torch.nn.modules.batchnorm.BatchNorm2d'>\n",
      "unknown module type <class 'torchvision.models.resnet.BasicBlock'>\n",
      "unknown module type <class 'torch.nn.modules.batchnorm.BatchNorm2d'>\n",
      "unknown module type <class 'torch.nn.modules.batchnorm.BatchNorm2d'>\n",
      "unknown module type <class 'torch.nn.modules.batchnorm.BatchNorm2d'>\n",
      "unknown module type <class 'torchvision.models.resnet.BasicBlock'>\n",
      "unknown module type <class 'torch.nn.modules.batchnorm.BatchNorm2d'>\n",
      "unknown module type <class 'torch.nn.modules.batchnorm.BatchNorm2d'>\n",
      "unknown module type <class 'torchvision.models.resnet.BasicBlock'>\n",
      "unknown module type <class 'torchvision.models.resnet.ResNet'>\n",
      "conversion complete!\n",
      "\n"
     ]
    },
    {
     "ename": "FileNotFoundError",
     "evalue": "[Errno 2] No such file or directory: '/home/workspace/mapper/mapper.yaml'",
     "output_type": "error",
     "traceback": [
      "\u001b[0;31m---------------------------------------------------------------------------\u001b[0m",
      "\u001b[0;31mFileNotFoundError\u001b[0m                         Traceback (most recent call last)",
      "Input \u001b[0;32mIn [5]\u001b[0m, in \u001b[0;36m<cell line: 1>\u001b[0;34m()\u001b[0m\n\u001b[0;32m----> 1\u001b[0m layer_wise, overall \u001b[38;5;241m=\u001b[39m \u001b[43mprofiler\u001b[49m\u001b[38;5;241;43m.\u001b[39;49m\u001b[43mprofile\u001b[49m\u001b[43m(\u001b[49m\u001b[43m)\u001b[49m\n\u001b[1;32m      3\u001b[0m \u001b[38;5;28;01mfor\u001b[39;00m layer_id, info \u001b[38;5;129;01min\u001b[39;00m layer_wise\u001b[38;5;241m.\u001b[39mitems():\n\u001b[1;32m      4\u001b[0m     \u001b[38;5;28mprint\u001b[39m(\u001b[38;5;124mf\u001b[39m\u001b[38;5;124m\"\u001b[39m\u001b[38;5;124mName: \u001b[39m\u001b[38;5;132;01m{\u001b[39;00minfo[\u001b[38;5;124m'\u001b[39m\u001b[38;5;124mname\u001b[39m\u001b[38;5;124m'\u001b[39m]\u001b[38;5;132;01m}\u001b[39;00m\u001b[38;5;124m \u001b[39m\u001b[38;5;130;01m\\t\u001b[39;00m\u001b[38;5;124m Energy: \u001b[39m\u001b[38;5;132;01m{\u001b[39;00minfo[\u001b[38;5;124m'\u001b[39m\u001b[38;5;124menergy\u001b[39m\u001b[38;5;124m'\u001b[39m]\u001b[38;5;132;01m:\u001b[39;00m\u001b[38;5;124m.2f\u001b[39m\u001b[38;5;132;01m}\u001b[39;00m\u001b[38;5;124m \u001b[39m\u001b[38;5;130;01m\\t\u001b[39;00m\u001b[38;5;124m Cycle: \u001b[39m\u001b[38;5;132;01m{\u001b[39;00minfo[\u001b[38;5;124m'\u001b[39m\u001b[38;5;124mcycle\u001b[39m\u001b[38;5;124m'\u001b[39m]\u001b[38;5;132;01m}\u001b[39;00m\u001b[38;5;124m \u001b[39m\u001b[38;5;130;01m\\t\u001b[39;00m\u001b[38;5;124m Number of same architecture layers: \u001b[39m\u001b[38;5;132;01m{\u001b[39;00minfo[\u001b[38;5;124m'\u001b[39m\u001b[38;5;124mnum\u001b[39m\u001b[38;5;124m'\u001b[39m]\u001b[38;5;132;01m}\u001b[39;00m\u001b[38;5;124m\"\u001b[39m)\n",
      "File \u001b[0;32m~/profiler.py:215\u001b[0m, in \u001b[0;36mProfiler.profile\u001b[0;34m(self)\u001b[0m\n\u001b[1;32m    208\u001b[0m             layer_info[idx\u001b[38;5;241m+\u001b[39m\u001b[38;5;241m1\u001b[39m] \u001b[38;5;241m=\u001b[39m {\n\u001b[1;32m    209\u001b[0m                 \u001b[38;5;124m'\u001b[39m\u001b[38;5;124mlayer_dict\u001b[39m\u001b[38;5;124m'\u001b[39m: layer_dict,\n\u001b[1;32m    210\u001b[0m                 \u001b[38;5;124m'\u001b[39m\u001b[38;5;124mnum\u001b[39m\u001b[38;5;124m'\u001b[39m: \u001b[38;5;241m1\u001b[39m,\n\u001b[1;32m    211\u001b[0m                 \u001b[38;5;124m'\u001b[39m\u001b[38;5;124mname\u001b[39m\u001b[38;5;124m'\u001b[39m: \u001b[38;5;28mstr\u001b[39m(file)\u001b[38;5;241m.\u001b[39mreplace(\u001b[38;5;124m'\u001b[39m\u001b[38;5;124m.yaml\u001b[39m\u001b[38;5;124m'\u001b[39m, \u001b[38;5;124m'\u001b[39m\u001b[38;5;124m'\u001b[39m)\n\u001b[1;32m    212\u001b[0m             }\n\u001b[1;32m    214\u001b[0m \u001b[38;5;66;03m# check the mapper info\u001b[39;00m\n\u001b[0;32m--> 215\u001b[0m \u001b[38;5;28;01mwith\u001b[39;00m \u001b[38;5;28;43mopen\u001b[39;49m\u001b[43m(\u001b[49m\u001b[38;5;28;43mself\u001b[39;49m\u001b[38;5;241;43m.\u001b[39;49m\u001b[43mbase_dir\u001b[49m\u001b[38;5;241;43m/\u001b[39;49m\u001b[38;5;28;43mself\u001b[39;49m\u001b[38;5;241;43m.\u001b[39;49m\u001b[43mtimeloop_dir\u001b[49m\u001b[38;5;241;43m/\u001b[39;49m\u001b[38;5;124;43m'\u001b[39;49m\u001b[38;5;124;43mmapper/mapper.yaml\u001b[39;49m\u001b[38;5;124;43m'\u001b[39;49m\u001b[43m,\u001b[49m\n\u001b[1;32m    216\u001b[0m \u001b[43m          \u001b[49m\u001b[38;5;124;43m'\u001b[39;49m\u001b[38;5;124;43mr\u001b[39;49m\u001b[38;5;124;43m'\u001b[39;49m\u001b[43m)\u001b[49m \u001b[38;5;28;01mas\u001b[39;00m fid:\n\u001b[1;32m    217\u001b[0m     mapper_dict \u001b[38;5;241m=\u001b[39m yaml\u001b[38;5;241m.\u001b[39msafe_load(fid)\n\u001b[1;32m    218\u001b[0m     \u001b[38;5;28;01mfor\u001b[39;00m layer_id, info \u001b[38;5;129;01min\u001b[39;00m layer_info\u001b[38;5;241m.\u001b[39mitems():\n",
      "\u001b[0;31mFileNotFoundError\u001b[0m: [Errno 2] No such file or directory: '/home/workspace/mapper/mapper.yaml'"
     ]
    }
   ],
   "source": [
    "layer_wise, overall = profiler.profile()\n",
    "\n",
    "for layer_id, info in layer_wise.items():\n",
    "    print(f\"Name: {info['name']} \\t Energy: {info['energy']:.2f} \\t Cycle: {info['cycle']} \\t Number of same architecture layers: {info['num']}\")\n",
    "    \n",
    "print(f\"\\nTotal Energy: {overall['total_energy']/1e9:.8f} mj \\nTotal Cycles: {overall['total_cycle']/1e6:.8f} Million\")"
   ]
  }
 ],
 "metadata": {
  "kernelspec": {
   "display_name": "Python 3 (ipykernel)",
   "language": "python",
   "name": "python3"
  },
  "language_info": {
   "codemirror_mode": {
    "name": "ipython",
    "version": 3
   },
   "file_extension": ".py",
   "mimetype": "text/x-python",
   "name": "python",
   "nbconvert_exporter": "python",
   "pygments_lexer": "ipython3",
   "version": "3.8.12"
  },
  "vscode": {
   "interpreter": {
    "hash": "b936384e55aec7c172f11878d2cc936a735ffd8ef2bcc2e704dbe30af09ca620"
   }
  }
 },
 "nbformat": 4,
 "nbformat_minor": 2
}
